{
  "nbformat": 4,
  "nbformat_minor": 0,
  "metadata": {
    "colab": {
      "provenance": [],
      "include_colab_link": true
    },
    "kernelspec": {
      "name": "python3",
      "display_name": "Python 3"
    },
    "language_info": {
      "name": "python"
    }
  },
  "cells": [
    {
      "cell_type": "markdown",
      "metadata": {
        "id": "view-in-github",
        "colab_type": "text"
      },
      "source": [
        "<a href=\"https://colab.research.google.com/github/Soyeon250/Data-Analysis-with-Open-Source/blob/main/%EC%98%A4%ED%94%88%EC%86%8C%EC%8A%A4_%EB%8D%B0%EC%9D%B4%ED%84%B0_%EB%B6%84%EC%84%9D_4%EA%B0%95.ipynb\" target=\"_parent\"><img src=\"https://colab.research.google.com/assets/colab-badge.svg\" alt=\"Open In Colab\"/></a>"
      ]
    },
    {
      "cell_type": "markdown",
      "source": [
        "\n",
        "\n",
        "# 오픈소스 기반 데이터 분석 4강 - 데이터 수집\n"
      ],
      "metadata": {
        "id": "DkPKaAsoRq5Q"
      }
    },
    {
      "cell_type": "markdown",
      "source": [
        "## 4-1 CSV 파일 읽기"
      ],
      "metadata": {
        "id": "-I7BVVlnRrB0"
      }
    },
    {
      "cell_type": "code",
      "source": [
        "import pandas as pd\n",
        "\n",
        "## data.csv 파일 읽기\n",
        "df = pd.read_csv('data.csv', encoding='utf-8', sep =',', header=0,\n",
        "                 index_col=None, skiprows=None, nrows=None)\n",
        "\n",
        "print(df)"
      ],
      "metadata": {
        "id": "2Y2HEiaiRwAI"
      },
      "execution_count": null,
      "outputs": []
    },
    {
      "cell_type": "markdown",
      "source": [
        "## 4-2 JSON 파일 읽기\n",
        "\n"
      ],
      "metadata": {
        "id": "9kHCFaGlRrE0"
      }
    },
    {
      "cell_type": "code",
      "source": [
        "import json\n",
        "import pandas as pd\n",
        "\n",
        "## data.json 파일 출력\n",
        "with open('data.json', mode='r', encoding='utf-8') as f:\n",
        "    data = json.load(f)\n",
        "print(data)\n",
        "\n",
        "## data.json 파일 DataFrame 읽기\n",
        "df = pd.read_json('data.json', orient='records', encoding='utf-8')\n",
        "print(df)"
      ],
      "metadata": {
        "id": "IO8bsKekR0W_"
      },
      "execution_count": null,
      "outputs": []
    },
    {
      "cell_type": "markdown",
      "source": [
        "## 4-3 텍스트 파일 읽기 및 데이터 추출"
      ],
      "metadata": {
        "id": "uLd_3A_IRrHG"
      }
    },
    {
      "cell_type": "code",
      "source": [
        "import re\n",
        "\n",
        "## 파일(callcenter20250301.log) 오픈 및 읽기\n",
        "with open('callcenter20250301.log', 'r', encoding='utf-8') as f:\n",
        "    content = f.read()\n",
        "## 주민등록번호 패턴 생성(정규표현식)\n",
        "pattern = re.compile(r'(\\d{6})-(\\d{7})')\n",
        "\n",
        "## 주민등록번호 마스킹\n",
        "masked_content = pattern.sub(r'\\1-*******', content)\n",
        "\n",
        "## 마스킹된 파일(callcenter20250301_masked.log) 오픈 및 쓰기\n",
        "with open('callcenter20250301_masked.log', mode='w') as f:\n",
        "    f.write(masked_content)\n",
        "\n",
        "print(\"주민등록번호 마스킹 완료. 'callcenter20250301_masked.log.txt' 파일로 저장되었습니다.\")"
      ],
      "metadata": {
        "id": "60qOf7uxVdAg"
      },
      "execution_count": null,
      "outputs": []
    },
    {
      "cell_type": "markdown",
      "source": [
        "## 4-4 Open-Meteo의 무료 날씨 API를 통한 특정 지역 온도 조회"
      ],
      "metadata": {
        "id": "eOMufu5SXiAU"
      }
    },
    {
      "cell_type": "code",
      "source": [
        "import requests\n",
        "import json\n",
        "\n",
        "url = \"https://api.open-meteo.com/v1/forecast?=&=&current=temperature_2m\"\n",
        "params = {\n",
        "    \"latitude\": \"37.58638333\",\n",
        "    \"longitude\": \"127.0203333\",\n",
        "    \"current\": \"temperature_2m\"\n",
        "}\n",
        "\n",
        "try:\n",
        "    ## URL 및 파라미터 전송\n",
        "    response = requests.get(url, params=params)\n",
        "    response.raise_for_status()\n",
        "\n",
        "    ## JSON 데이터 읽기\n",
        "    data = response.json()\n",
        "\n",
        "    print(\"API 응답:\", data)\n",
        "    print(\"서울시 종로구의 현재 온도는 : {0}{1} 입니다.\".format(data['current']['temperature_2m'], data['current_units']['temperature_2m']))\n",
        "\n",
        "except requests.exceptions.RequestException as e:\n",
        "    print(f\"API 호출 실패: {e}\")\n",
        "except json.JSONDecodeError as e:\n",
        "    print(f\"JSON 파싱 실패: {e}\")"
      ],
      "metadata": {
        "id": "JpmgdsW9V0CY"
      },
      "execution_count": null,
      "outputs": []
    },
    {
      "cell_type": "markdown",
      "source": [
        "## 4-5 Selenium과 lxml을 이용한 웹 스크래핑"
      ],
      "metadata": {
        "id": "RLfPaa1ZiqIC"
      }
    },
    {
      "cell_type": "code",
      "source": [
        "!curl -o google-chrome-stable_current_amd64.deb https://dl.google.com/linux/direct/google-chrome-stable_current_amd64.deb\n",
        "!apt install ./google-chrome-stable_current_amd64.deb -y\n",
        "!pip install selenium webdriver_manager"
      ],
      "metadata": {
        "id": "79dmM7MNk8pB"
      },
      "execution_count": null,
      "outputs": []
    },
    {
      "cell_type": "code",
      "source": [
        "from selenium import webdriver\n",
        "from selenium.webdriver.chrome.service import Service as ChromeService\n",
        "from webdriver_manager.chrome import ChromeDriverManager\n",
        "from selenium.webdriver.common.by import By\n",
        "from lxml import html\n",
        "import time\n",
        "\n",
        "chrome_options = webdriver.ChromeOptions()\n",
        "chrome_options.add_argument('--headless')               # 브라우저 창 없이 실행\n",
        "chrome_options.add_argument('--no-sandbox')             # 보안모드 비활성화 (Colab 필수)\n",
        "chrome_options.add_argument('--disable-dev-shm-usage')  # 메모리 부족 방지 (Colab 필수)\n",
        "chrome_options.add_argument('--window-size=1920x1080')  # 창 크기 설정(가상)\n",
        "chrome_options.add_argument('--disable-gpu')            # GPU 가속 비활성화 (일부 환경 안정성)\n",
        "chrome_options.binary_location = \"/usr/bin/google-chrome-stable\"  # Colab용 크롬 경로 지정\n",
        "\n",
        "## 드라이버 실행\n",
        "driver = webdriver.Chrome(options=chrome_options)\n",
        "\n",
        "## 사이트 접속\n",
        "url = 'https://professor.knou.ac.kr/jaehwachung/index.do'\n",
        "driver.get(url)\n",
        "\n",
        "## 사이트 접속 대기\n",
        "time.sleep(2)\n",
        "\n",
        "## 페이지 제목 출력\n",
        "page_source = driver.page_source\n",
        "tree = html.fromstring(page_source)\n",
        "\n",
        "title_text = tree.xpath('//title/text()')\n",
        "print(title_text)\n",
        "\n",
        "## 드라이버 종료\n",
        "driver.quit()"
      ],
      "metadata": {
        "id": "cRC8x3_iW0im"
      },
      "execution_count": null,
      "outputs": []
    },
    {
      "cell_type": "markdown",
      "source": [
        "\n",
        "# 실습 시나리오"
      ],
      "metadata": {
        "id": "Bu6OMZyGirOq"
      }
    },
    {
      "cell_type": "markdown",
      "source": [
        "## 공공데이터 포털 가입 및 데이터 신청\n",
        "\n",
        "- [https://www.data.go.kr](https://www.data.go.kr)\n",
        "- 한국환경공단 에어코리아 대기오염정보 데이터 신청"
      ],
      "metadata": {
        "id": "nsuqRN9RkZlW"
      }
    },
    {
      "cell_type": "code",
      "source": [
        "import requests\n",
        "\n",
        "## 데이터 수집 url 및 api key 설정\n",
        "url = 'http://apis.data.go.kr/B552584/ArpltnInforInqireSvc/getCtprvnRltmMesureDnsty'\n",
        "api_key = '04b6bc0ccaeb421f3b7d57f494df536a8e081c7eefcf972beb98b88de1a948bc'\n",
        "\n",
        "params = {\n",
        "    'serviceKey': api_key,\n",
        "    'returnType': 'json',\n",
        "    'numOfRows': '100',\n",
        "    'pageNo': '1',\n",
        "    'sidoName': '경기',\n",
        "    'ver': '1.0'\n",
        "}\n",
        "\n",
        "## 데이터 수집\n",
        "response = requests.get(url, params=params)\n",
        "\n",
        "## 호출 성공/실패 출력\n",
        "print(response.json())\n"
      ],
      "metadata": {
        "id": "7yCozmQeXJcO"
      },
      "execution_count": null,
      "outputs": []
    },
    {
      "cell_type": "code",
      "source": [],
      "metadata": {
        "id": "8NtzVrUtwp09"
      },
      "execution_count": null,
      "outputs": []
    },
    {
      "cell_type": "code",
      "source": [
        "import requests\n",
        "\n",
        "def get_year_months():\n",
        "  year_months = []\n",
        "  for year in range(2015, 2024+1):\n",
        "    for month in range(1, 12+1):\n",
        "      year_months.append(f'{year}{month:02d}')\n",
        "  return year_months\n",
        "\n",
        "url = \"http://openapi.seoul.go.kr:8088/{5a4e4156566c737935305568525850}/json/energyUseDataSummaryInfo/1/5/{year}/{month}\"\n",
        "api_key = \"5a4e4156566c737935305568525850\"\n",
        "\n",
        "params = {\n",
        "    'serviceKey': api_key,\n",
        "    'returnType': 'json',\n",
        "    'numOfRows': '100',\n",
        "    'pageNo': '1',\n",
        "    'sidoName': '서울',\n",
        "    'ver': '1.0'\n",
        "}\n",
        "\n",
        "response = requests.get(url, params=params)\n",
        "\n",
        "if response.status_code == 200:\n",
        "  print(\"api 호출 성공\")\n",
        "  print(response.json())\n",
        "else:\n",
        "  print(f\"API 호출 실패: {response.status_code}\")"
      ],
      "metadata": {
        "id": "-UhILqpDAJIF"
      },
      "execution_count": null,
      "outputs": []
    },
    {
      "cell_type": "code",
      "source": [
        "import requests\n",
        "\n",
        "def get_year_months():\n",
        "  year_months = []\n",
        "  for year in range(2015, 2024+1):\n",
        "    for month in range(1, 12+1):\n",
        "      year_months.append(f'{year}{month:02d}')\n",
        "  return year_months\n",
        "\n",
        "result_data = []\n",
        "\n",
        "api_key = \"5a4e4156566c737935305568525850\"\n",
        "\n",
        "for year_month in get_year_months():\n",
        "    year = year_month[:4]\n",
        "    month = year_month[4:]\n",
        "    url = f\"http://openapi.seoul.go.kr:8088/{api_key}/json/energyUseDataSummaryInfo/1/1000/{year}/{month}\"\n",
        "\n",
        "    response = requests.get(url)\n",
        "\n",
        "    if response.status_code == 200:\n",
        "        print(f\"{year}년 {month}월 api 호출 성공\")\n",
        "        data = response.json()\n",
        "\n",
        "        if 'energyUseDataSummaryInfo' in data:\n",
        "            if 'row' in data['energyUseDataSummaryInfo']:\n",
        "              rows = data['energyUseDataSummaryInfo']['row']\n",
        "\n",
        "            for item in rows:\n",
        "              if item.get('MM_TYPE') == '개인':\n",
        "\n",
        "                  energy_data = {\n",
        "                      '사용년월': item.get('YEAR') + item.get('MON'),\n",
        "                      '전기사용량': item.get('EUS'),\n",
        "                      '가스사용량': item.get('GUS'),\n",
        "                      '수도사용량': item.get('WUS'),\n",
        "                      '지역난방사용량': item.get('HUS')\n",
        "                  }\n",
        "                  result_data.append(energy_data)\n",
        "    else:\n",
        "        print(f\"{year}년 {month}월 API 호출 실패: {response.status_code}\")"
      ],
      "metadata": {
        "id": "Fxzu-JnCCQ8M"
      },
      "execution_count": null,
      "outputs": []
    },
    {
      "cell_type": "code",
      "source": [
        "import requests\n",
        "\n",
        "url = f\"http://openapi.seoul.go.kr:8088/{api_key}/json/energyUseDataSummaryInfo/1/5/2015/01\"\n",
        "api_key = \"5a4e4156566c737935305568525850\"\n",
        "\n",
        "response = requests.get(url)\n",
        "\n",
        "if response.status_code == 200:\n",
        "    print(\"api 호출 성공\")\n",
        "    print(response.json())\n",
        "else:\n",
        "    print(f\"API 호출 실패: {response.status_code}\")\n"
      ],
      "metadata": {
        "id": "JDqC5eyzPeua",
        "outputId": "1bde29d3-d8a8-419f-dde4-5d978cf4100c",
        "colab": {
          "base_uri": "https://localhost:8080/"
        }
      },
      "execution_count": null,
      "outputs": [
        {
          "output_type": "stream",
          "name": "stdout",
          "text": [
            "api 호출 성공\n",
            "{'energyUseDataSummaryInfo': {'list_total_count': 7, 'RESULT': {'CODE': 'INFO-000', 'MESSAGE': '정상 처리되었습니다'}, 'row': [{'YEAR': '2015', 'MON': '01', 'MM_TYPE': '개인', 'CNT': '767791', 'EUS': '193784708', 'EUS1': '194781915', 'EUS2': '204969429', 'ECO2_1': '-6090964', 'ECO2_2': '-2582568.736', 'GUS': '59133720', 'GUS1': '57163993', 'GUS2': '68297619', 'GCO2_1': '-3597086', 'GCO2_2': '-8057472.64', 'WUS': '12819757.886', 'WUS1': '12723680.426', 'WUS2': '12899476.73', 'WCO2_1': '8179.308', 'WCO2_2': '2715.530256', 'HUS': '22740838.937', 'HUS1': '23400055.303', 'HUS2': '27090493.875', 'HCO2_1': '-2504435.652', 'HCO2_2': '-33660084.213069', 'REG_DATE': '2015-06-04 17:03:55.0'}, {'YEAR': '2015', 'MON': '01', 'MM_TYPE': '학교', 'CNT': '1382', 'EUS': '134955565', 'EUS1': '128707423', 'EUS2': '145561511', 'ECO2_1': '-2178902', 'ECO2_2': '-923854.448', 'GUS': '9107197', 'GUS1': '8410968', 'GUS2': '10745416', 'GCO2_1': '-470995', 'GCO2_2': '-1055028.8', 'WUS': '2075819.2', 'WUS1': '2097433.8', 'WUS2': '2133200.8', 'WCO2_1': '-39498.1', 'WCO2_2': '-13113.3692', 'HUS': '0', 'HUS1': '0', 'HUS2': '0', 'HCO2_1': '0', 'HCO2_2': '0', 'REG_DATE': '2015-06-04 17:03:55.0'}, {'YEAR': '2015', 'MON': '01', 'MM_TYPE': '종교단체', 'CNT': '32', 'EUS': '372270', 'EUS1': '363376', 'EUS2': '411363', 'ECO2_1': '-15099.5', 'ECO2_2': '-6402.188', 'GUS': '53331', 'GUS1': '45727', 'GUS2': '63312', 'GCO2_1': '-1188.5', 'GCO2_2': '-2662.24', 'WUS': '5945', 'WUS1': '4548', 'WUS2': '4519', 'WCO2_1': '1411.5', 'WCO2_2': '468.618', 'HUS': '0', 'HUS1': '0', 'HUS2': '0', 'HCO2_1': '0', 'HCO2_2': '0', 'REG_DATE': '2015-06-04 17:03:55.0'}, {'YEAR': '2015', 'MON': '01', 'MM_TYPE': '소상공인', 'CNT': '2058', 'EUS': '10249618', 'EUS1': '9927610', 'EUS2': '11039593', 'ECO2_1': '-233983.5', 'ECO2_2': '-99209.004', 'GUS': '536119', 'GUS1': '523810', 'GUS2': '642921', 'GCO2_1': '-47246.5', 'GCO2_2': '-105832.16', 'WUS': '147273', 'WUS1': '146480.6', 'WUS2': '147325.6', 'WCO2_1': '369.9', 'WCO2_2': '122.8068', 'HUS': '0', 'HUS1': '0', 'HUS2': '0', 'HCO2_1': '0', 'HCO2_2': '0', 'REG_DATE': '2015-06-04 17:03:55.0'}, {'YEAR': '2015', 'MON': '01', 'MM_TYPE': '공동주택관리소', 'CNT': '1747', 'EUS': '327102096', 'EUS1': '329852334', 'EUS2': '351694752', 'ECO2_1': '-13671447', 'ECO2_2': '-5796693.528', 'GUS': '22834274', 'GUS1': '21141017', 'GUS2': '25338506', 'GCO2_1': '-405487.5', 'GCO2_2': '-908292', 'WUS': '12844807.5', 'WUS1': '12763070', 'WUS2': '12979835.8', 'WCO2_1': '-26645.4', 'WCO2_2': '-8846.2728', 'HUS': '0', 'HUS1': '0', 'HUS2': '0', 'HCO2_1': '0', 'HCO2_2': '0', 'REG_DATE': '2015-06-04 17:03:55.0'}]}}\n"
          ]
        }
      ]
    },
    {
      "cell_type": "code",
      "source": [
        "\n",
        "import pandas as pd\n",
        "\n",
        "data = result_data\n",
        "\n",
        "df = pd.DataFrame(data)\n",
        "df\n",
        "\n",
        "## DataFrame 인덱스 출력\n",
        "print(df.index)\n",
        "\n",
        "## DataFrame 컬럼 출력\n",
        "print(df.columns)\n",
        "\n",
        "## DataFrame 행 출력\n",
        "print(df.values.tolist())\n",
        "print(df.values)\n",
        "\n",
        "## DataFrame 값 출력\n",
        "print(df.values.flatten())"
      ],
      "metadata": {
        "id": "VLZRyaUZ4WZb",
        "outputId": "dc77f625-3337-495c-99c3-f200195976b5",
        "colab": {
          "base_uri": "https://localhost:8080/"
        }
      },
      "execution_count": null,
      "outputs": [
        {
          "output_type": "stream",
          "name": "stdout",
          "text": [
            "RangeIndex(start=0, stop=0, step=1)\n",
            "RangeIndex(start=0, stop=0, step=1)\n",
            "[]\n",
            "[]\n",
            "[]\n"
          ]
        }
      ]
    },
    {
      "cell_type": "code",
      "source": [
        "import requests\n",
        "import pandas as pd\n",
        "\n",
        "def get_year_months():\n",
        "  year_months = []\n",
        "  for year in range(2015, 2024+1):\n",
        "    for month in range(1, 12+1):\n",
        "      year_months.append(f'{year}{month:02d}')\n",
        "  return year_months\n",
        "\n",
        "result_data = []\n",
        "\n",
        "api_key = \"5a4e4156566c737935305568525850\"\n",
        "\n",
        "for year_month in get_year_months():\n",
        "    year = year_month[:4]\n",
        "    month = year_month[4:]\n",
        "    url = f\"http://openapi.seoul.go.kr:8088/{api_key}/json/energyUseDataSummaryInfo/1/1000/{year}/{month}\"\n",
        "\n",
        "    response = requests.get(url)\n",
        "\n",
        "    if response.status_code == 200:\n",
        "        data = response.json()\n",
        "\n",
        "        if 'energyUseDataSummaryInfo' in data:\n",
        "            if 'row' in data['energyUseDataSummaryInfo']:\n",
        "              rows = data['energyUseDataSummaryInfo']['row']\n",
        "\n",
        "            for item in rows:\n",
        "              if item.get('MM_TYPE') == '개인':\n",
        "\n",
        "                  energy_data = {\n",
        "                      '사용년월': item.get('YEAR') + item.get('MON'),\n",
        "                      '전기사용량': item.get('EUS'),\n",
        "                      '가스사용량': item.get('GUS'),\n",
        "                      '수도사용량': item.get('WUS'),\n",
        "                      '지역난방사용량': item.get('HUS')\n",
        "                  }\n",
        "                  result_data.append(energy_data)\n",
        "    else:\n",
        "        print(f\"{year}년 {month}월 API 호출 실패: {response.status_code}\")\n",
        "\n",
        "df = pd.DataFrame(result_data)\n",
        "\n",
        "# DataFrame 기본 정보\n",
        "df.info()\n",
        "# DataFrame 상위 5개 미리보기\n",
        "print(df.head())\n"
      ],
      "metadata": {
        "id": "OukO29reqjlh",
        "outputId": "b0cc7911-1400-41e4-e349-29645388da0a",
        "colab": {
          "base_uri": "https://localhost:8080/"
        }
      },
      "execution_count": null,
      "outputs": [
        {
          "output_type": "stream",
          "name": "stdout",
          "text": [
            "<class 'pandas.core.frame.DataFrame'>\n",
            "RangeIndex: 120 entries, 0 to 119\n",
            "Data columns (total 5 columns):\n",
            " #   Column   Non-Null Count  Dtype \n",
            "---  ------   --------------  ----- \n",
            " 0   사용년월     120 non-null    object\n",
            " 1   전기사용량    120 non-null    object\n",
            " 2   가스사용량    120 non-null    object\n",
            " 3   수도사용량    120 non-null    object\n",
            " 4   지역난방사용량  120 non-null    object\n",
            "dtypes: object(5)\n",
            "memory usage: 4.8+ KB\n",
            "     사용년월      전기사용량     가스사용량         수도사용량       지역난방사용량\n",
            "0  201501  193784708  59133720  12819757.886  22740838.937\n",
            "1  201502  189974230  56487358  12656888.218  18793320.213\n",
            "2  201503  175215719  49984873  12655474.249  13826348.508\n",
            "3  201504  183891769  37306841  12954773.246   5836002.885\n",
            "4  201505  177289769  22060892  13086734.214   1320895.801\n"
          ]
        }
      ]
    },
    {
      "cell_type": "code",
      "source": [
        "import requests\n",
        "import pandas as pd\n",
        "\n",
        "def get_year_months():\n",
        "  year_months = []\n",
        "  for year in range(2015, 2024+1):\n",
        "    for month in range(1, 12+1):\n",
        "      year_months.append(f'{year}{month:02d}')\n",
        "  return year_months\n",
        "\n",
        "result_data = []\n",
        "\n",
        "api_key = \"5a4e4156566c737935305568525850\"\n",
        "\n",
        "for year_month in get_year_months():\n",
        "    year = year_month[:4]\n",
        "    month = year_month[4:]\n",
        "    url = f\"http://openapi.seoul.go.kr:8088/{api_key}/json/energyUseDataSummaryInfo/1/1000/{year}/{month}\"\n",
        "\n",
        "    response = requests.get(url)\n",
        "\n",
        "    if response.status_code == 200:\n",
        "        data = response.json()\n",
        "\n",
        "        if 'energyUseDataSummaryInfo' in data:\n",
        "            if 'row' in data['energyUseDataSummaryInfo']:\n",
        "              rows = data['energyUseDataSummaryInfo']['row']\n",
        "\n",
        "            for item in rows:\n",
        "              if item.get('MM_TYPE') == '개인':\n",
        "\n",
        "                  energy_data = {\n",
        "                      '사용년월': item.get('YEAR') + item.get('MON'),\n",
        "                      '전기사용량': item.get('EUS'),\n",
        "                      '가스사용량': item.get('GUS'),\n",
        "                      '수도사용량': item.get('WUS'),\n",
        "                      '지역난방사용량': item.get('HUS')\n",
        "                  }\n",
        "                  result_data.append(energy_data)\n",
        "    else:\n",
        "        print(f\"{year}년 {month}월 API 호출 실패: {response.status_code}\")\n",
        "\n",
        "df = pd.DataFrame(result_data)\n",
        "\n",
        "# DataFrame 기본 정보\n",
        "df.info()\n",
        "# DataFrame 상위 5개 미리보기\n",
        "print(df.head())\n",
        "\n",
        "# 'year' 컬럼 추가: '사용년월' 문자열의 앞 4글자를 잘라와서 만듭니다.\n",
        "df['year'] = df['사용년월'].str[:4]\n",
        "\n",
        "# 계절 구분을 위한 함수 정의\n",
        "def get_season(month):\n",
        "    if 3 <= month <= 5:\n",
        "        return '봄'\n",
        "    elif 6 <= month <= 8:\n",
        "        return '여름'\n",
        "    elif 9 <= month <= 11:\n",
        "        return '가을'\n",
        "    else: # 12, 1, 2월\n",
        "        return '겨울'\n",
        "\n",
        "#  'season' 컬럼 추가\n",
        "# '사용년월'의 뒤 2글자를 잘라 'month' 임시 컬럼을 만듭니다. (숫자로 변환)\n",
        "df['month'] = df['사용년월'].str[4:].astype(int)\n",
        "# 'month' 컬럼의 각 값에 get_season 함수를 적용하여 'season' 컬럼을 만듭니다.\n",
        "df['season'] = df['month'].apply(get_season)\n",
        "\n",
        "# 변환 결과 확인 (불필요한 'month' 컬럼은 제외하고 출력)\n",
        "print(\"\\n--- ['year', 'season' 컬럼 추가 결과] ---\")\n",
        "print(df[['사용년월', 'year', 'season']].head())\n",
        "\n",
        "# (선택 사항) 임시로 사용한 'month' 컬럼 삭제\n",
        "df = df.drop(columns=['month'])"
      ],
      "metadata": {
        "id": "OgeKKf_z1-sm",
        "outputId": "d07f68e3-a821-4a4a-982a-be0a6002ac12",
        "colab": {
          "base_uri": "https://localhost:8080/"
        }
      },
      "execution_count": null,
      "outputs": [
        {
          "output_type": "stream",
          "name": "stdout",
          "text": [
            "<class 'pandas.core.frame.DataFrame'>\n",
            "RangeIndex: 120 entries, 0 to 119\n",
            "Data columns (total 5 columns):\n",
            " #   Column   Non-Null Count  Dtype \n",
            "---  ------   --------------  ----- \n",
            " 0   사용년월     120 non-null    object\n",
            " 1   전기사용량    120 non-null    object\n",
            " 2   가스사용량    120 non-null    object\n",
            " 3   수도사용량    120 non-null    object\n",
            " 4   지역난방사용량  120 non-null    object\n",
            "dtypes: object(5)\n",
            "memory usage: 4.8+ KB\n",
            "     사용년월      전기사용량     가스사용량         수도사용량       지역난방사용량\n",
            "0  201501  193784708  59133720  12819757.886  22740838.937\n",
            "1  201502  189974230  56487358  12656888.218  18793320.213\n",
            "2  201503  175215719  49984873  12655474.249  13826348.508\n",
            "3  201504  183891769  37306841  12954773.246   5836002.885\n",
            "4  201505  177289769  22060892  13086734.214   1320895.801\n",
            "\n",
            "--- ['year', 'season' 컬럼 추가 결과] ---\n",
            "     사용년월  year season\n",
            "0  201501  2015     겨울\n",
            "1  201502  2015     겨울\n",
            "2  201503  2015      봄\n",
            "3  201504  2015      봄\n",
            "4  201505  2015      봄\n"
          ]
        }
      ]
    },
    {
      "cell_type": "code",
      "source": [
        "import requests\n",
        "\n",
        "def get_year_months():\n",
        "  year_months = []\n",
        "  for year in range(2015, 2024+1):\n",
        "    for month in range(1, 12+1):\n",
        "      year_months.append(f'{year}{month:02d}')\n",
        "  return year_months\n",
        "\n",
        "result_data = []\n",
        "\n",
        "api_key = \"5a4e4156566c737935305568525850\"\n",
        "\n",
        "for year_month in get_year_months():\n",
        "    year = year_month[:4]\n",
        "    month = year_month[4:]\n",
        "    url = f\"http://openapi.seoul.go.kr:8088/{api_key}/json/energyUseDataSummaryInfo/1/1000/{year}/{month}\"\n",
        "\n",
        "    response = requests.get(url)\n",
        "\n",
        "    if response.status_code == 200:\n",
        "        print(\"api 호출 성공\")\n",
        "        data = response.json()\n",
        "\n",
        "        if 'energyUseDataSummaryInfo' in data:\n",
        "            if 'row' in data['energyUseDataSummaryInfo']:\n",
        "              rows = data['energyUseDataSummaryInfo']['row']\n",
        "\n",
        "            for item in rows:\n",
        "              if item.get('MM_TYPE') == '개인':\n",
        "\n",
        "                  energy_data = {\n",
        "                      '전기사용량': item.get('EUS'),\n",
        "                      '가스사용량': item.get('GUS'),\n",
        "                      '수도사용량': item.get('WUS'),\n",
        "                      '지역난방사용량': item.get('HUS')\n",
        "                  }\n",
        "                  result_data.append(energy_data)\n",
        "                  print(energy_data)\n",
        "                  break\n",
        "\n",
        "    else:\n",
        "        print(f\"API 호출 실패: {response.status_code}\")"
      ],
      "metadata": {
        "colab": {
          "base_uri": "https://localhost:8080/"
        },
        "id": "uc2Y9Nf6D-Wh",
        "outputId": "b2e4cf75-4c84-4a17-9999-afcbd5629607"
      },
      "execution_count": 3,
      "outputs": [
        {
          "output_type": "stream",
          "name": "stdout",
          "text": [
            "api 호출 성공\n",
            "{'전기사용량': '193784708', '가스사용량': '59133720', '수도사용량': '12819757.886', '지역난방사용량': '22740838.937'}\n",
            "api 호출 성공\n",
            "{'전기사용량': '189974230', '가스사용량': '56487358', '수도사용량': '12656888.218', '지역난방사용량': '18793320.213'}\n",
            "api 호출 성공\n",
            "{'전기사용량': '175215719', '가스사용량': '49984873', '수도사용량': '12655474.249', '지역난방사용량': '13826348.508'}\n",
            "api 호출 성공\n",
            "{'전기사용량': '183891769', '가스사용량': '37306841', '수도사용량': '12954773.246', '지역난방사용량': '5836002.885'}\n",
            "api 호출 성공\n",
            "{'전기사용량': '177289769', '가스사용량': '22060892', '수도사용량': '13086734.214', '지역난방사용량': '1320895.801'}\n",
            "api 호출 성공\n",
            "{'전기사용량': '186073153', '가스사용량': '12677645', '수도사용량': '14241651.402', '지역난방사용량': '294312.634'}\n",
            "api 호출 성공\n",
            "{'전기사용량': '165114568', '가스사용량': '8893640', '수도사용량': '12083879.038', '지역난방사용량': '702863.645'}\n",
            "api 호출 성공\n",
            "{'전기사용량': '242000479', '가스사용량': '7619018', '수도사용량': '15164553.742', '지역난방사용량': '460288.965'}\n",
            "api 호출 성공\n",
            "{'전기사용량': '207540868', '가스사용량': '6518422', '수도사용량': '14419078.727', '지역난방사용량': '305710.728'}\n",
            "api 호출 성공\n",
            "{'전기사용량': '186473958', '가스사용량': '8924018', '수도사용량': '14711828.766', '지역난방사용량': '3167520.127'}\n",
            "api 호출 성공\n",
            "{'전기사용량': '196892030', '가스사용량': '20322557', '수도사용량': '13692668.676', '지역난방사용량': '11210982.51'}\n",
            "api 호출 성공\n",
            "{'전기사용량': '203388142', '가스사용량': '40095231', '수도사용량': '13904162.958', '지역난방사용량': '21102616.717'}\n",
            "api 호출 성공\n",
            "{'전기사용량': '215330620', '가스사용량': '57641741', '수도사용량': '13218916.436', '지역난방사용량': '27186166.133'}\n",
            "api 호출 성공\n",
            "{'전기사용량': '216677664', '가스사용량': '68879796', '수도사용량': '13312113.622', '지역난방사용량': '21452994.715'}\n",
            "api 호출 성공\n",
            "{'전기사용량': '203451798', '가스사용량': '60019600', '수도사용량': '13191615.499', '지역난방사용량': '14070182.978'}\n",
            "api 호출 성공\n",
            "{'전기사용량': '202541336', '가스사용량': '40370608', '수도사용량': '13748935.736', '지역난방사용량': '4556396.936'}\n",
            "api 호출 성공\n",
            "{'전기사용량': '195448592', '가스사용량': '23077064', '수도사용량': '13762618.524', '지역난방사용량': '1166907.615'}\n",
            "api 호출 성공\n",
            "{'전기사용량': '205061790', '가스사용량': '13344932', '수도사용량': '14543461.284', '지역난방사용량': '340601.066'}\n",
            "api 호출 성공\n",
            "{'전기사용량': '226567751', '가스사용량': '9641899', '수도사용량': '14686067.972', '지역난방사용량': '89835.795'}\n",
            "api 호출 성공\n",
            "{'전기사용량': '303032015', '가스사용량': '8324791', '수도사용량': '15442898.396', '지역난방사용량': '27303.979'}\n",
            "api 호출 성공\n",
            "{'전기사용량': '241676328', '가스사용량': '7030657', '수도사용량': '15233262.266', '지역난방사용량': '2597269.386'}\n",
            "api 호출 성공\n",
            "{'전기사용량': '197827666', '가스사용량': '10129547', '수도사용량': '15173666.268', '지역난방사용량': '2142328.405'}\n",
            "api 호출 성공\n",
            "{'전기사용량': '204812090', '가스사용량': '23915383', '수도사용량': '7215169', '지역난방사용량': '10865402.481'}\n",
            "api 호출 성공\n",
            "{'전기사용량': '212192127', '가스사용량': '46917377', '수도사용량': '14415082.726', '지역난방사용량': '17554645.961'}\n",
            "api 호출 성공\n",
            "{'전기사용량': '222980440', '가스사용량': '61781772', '수도사용량': '14077034.016', '지역난방사용량': '20567265.356'}\n",
            "api 호출 성공\n",
            "{'전기사용량': '226181991', '가스사용량': '73537514', '수도사용량': '13724166.552', '지역난방사용량': '17733782.246'}\n",
            "api 호출 성공\n",
            "{'전기사용량': '208386870', '가스사용량': '64297007', '수도사용량': '13598081.92', '지역난방사용량': '11477962.549'}\n",
            "api 호출 성공\n",
            "{'전기사용량': '214202199', '가스사용량': '45050211', '수도사용량': '12690616.841', '지역난방사용량': '4466510.567'}\n",
            "api 호출 성공\n",
            "{'전기사용량': '209894672', '가스사용량': '25103152', '수도사용량': '12950202.184', '지역난방사용량': '19809726.81'}\n",
            "api 호출 성공\n",
            "{'전기사용량': '211179181', '가스사용량': '14312533', '수도사용량': '13629782.778', '지역난방사용량': '235859.209'}\n",
            "api 호출 성공\n",
            "{'전기사용량': '255974689', '가스사용량': '10085989', '수도사용량': '13786672.672', '지역난방사용량': '40992.123'}\n",
            "api 호출 성공\n",
            "{'전기사용량': '297850172', '가스사용량': '8429188', '수도사용량': '14291829.084', '지역난방사용량': '118927.011'}\n",
            "api 호출 성공\n",
            "{'전기사용량': '232360099', '가스사용량': '8981707', '수도사용량': '13842675.562', '지역난방사용량': '1279967.753'}\n",
            "api 호출 성공\n",
            "{'전기사용량': '202205893', '가스사용량': '11910453', '수도사용량': '13811362.596', '지역난방사용량': '2177857.689'}\n",
            "api 호출 성공\n",
            "{'전기사용량': '215620132', '가스사용량': '26041170', '수도사용량': '13268391.686', '지역난방사용량': '12290667.843'}\n",
            "api 호출 성공\n",
            "{'전기사용량': '228503347', '가스사용량': '59466188', '수도사용량': '13243386.284', '지역난방사용량': '21819495.238'}\n",
            "api 호출 성공\n",
            "{'전기사용량': '208518118', '가스사용량': '82250572', '수도사용량': '10997016.858', '지역난방사용량': '15268708.539'}\n",
            "api 호출 성공\n",
            "{'전기사용량': '243271752', '가스사용량': '88496947', '수도사용량': '12905042.86', '지역난방사용량': '22671708.494'}\n",
            "api 호출 성공\n",
            "{'전기사용량': '219203768', '가스사용량': '73426397', '수도사용량': '12769174.532', '지역난방사용량': '10924939.951'}\n",
            "api 호출 성공\n",
            "{'전기사용량': '222416406', '가스사용량': '42565583', '수도사용량': '13280372.714', '지역난방사용량': '5017072.364'}\n",
            "api 호출 성공\n",
            "{'전기사용량': '213539965', '가스사용량': '29234091', '수도사용량': '13181988.612', '지역난방사용량': '1375720.246'}\n",
            "api 호출 성공\n",
            "{'전기사용량': '222820943', '가스사용량': '17132065', '수도사용량': '14051336.092', '지역난방사용량': '285820.628'}\n",
            "api 호출 성공\n",
            "{'전기사용량': '269705511', '가스사용량': '11259835', '수도사용량': '14333667.052', '지역난방사용량': '25843523.832'}\n",
            "api 호출 성공\n",
            "{'전기사용량': '393315950', '가스사용량': '8166455', '수도사용량': '14956551.722', '지역난방사용량': '15855.507'}\n",
            "api 호출 성공\n",
            "{'전기사용량': '267255459', '가스사용량': '7210123', '수도사용량': '14705302.054', '지역난방사용량': '192778.954'}\n",
            "api 호출 성공\n",
            "{'전기사용량': '217274530', '가스사용량': '14102506', '수도사용량': '14728158.238', '지역난방사용량': '4137960.203'}\n",
            "api 호출 성공\n",
            "{'전기사용량': '227294230', '가스사용량': '31239511', '수도사용량': '13706690.088', '지역난방사용량': '10276290.855'}\n",
            "api 호출 성공\n",
            "{'전기사용량': '238692561', '가스사용량': '54019855', '수도사용량': '13732488.456', '지역난방사용량': '20421845.603'}\n",
            "api 호출 성공\n",
            "{'전기사용량': '253600219', '가스사용량': '80308239', '수도사용량': '13442971.1', '지역난방사용량': '21963093.848'}\n",
            "api 호출 성공\n",
            "{'전기사용량': '244927344', '가스사용량': '81902188', '수도사용량': '13495213.9', '지역난방사용량': '106134923.132'}\n",
            "api 호출 성공\n",
            "{'전기사용량': '223736787', '가스사용량': '65146586.443', '수도사용량': '13167550', '지역난방사용량': '13194262.09'}\n",
            "api 호출 성공\n",
            "{'전기사용량': '232166121', '가스사용량': '49391508', '수도사용량': '13753270.8', '지역난방사용량': '7858587.747'}\n",
            "api 호출 성공\n",
            "{'전기사용량': '221753919', '가스사용량': '31370114', '수도사용량': '13610225.3', '지역난방사용량': '1442006.927'}\n",
            "api 호출 성공\n",
            "{'전기사용량': '226119779', '가스사용량': '15771701', '수도사용량': '14223536.4', '지역난방사용량': '331690.945'}\n",
            "api 호출 성공\n",
            "{'전기사용량': '257854441', '가스사용량': '10700835', '수도사용량': '14451345.9', '지역난방사용량': '968957.161'}\n",
            "api 호출 성공\n",
            "{'전기사용량': '342924356', '가스사용량': '8884580', '수도사용량': '15115644.2', '지역난방사용량': '147683.081'}\n",
            "api 호출 성공\n",
            "{'전기사용량': '275890739', '가스사용량': '8397984', '수도사용량': '14472395.4', '지역난방사용량': '2292916.674'}\n",
            "api 호출 성공\n",
            "{'전기사용량': '228095713', '가스사용량': '11876816', '수도사용량': '14804362.3', '지역난방사용량': '2590192.143'}\n",
            "api 호출 성공\n",
            "{'전기사용량': '231283724', '가스사용량': '24835894', '수도사용량': '14123043.9', '지역난방사용량': '14983364.884'}\n",
            "api 호출 성공\n",
            "{'전기사용량': '244976724', '가스사용량': '54509050', '수도사용량': '14184785.2', '지역난방사용량': '23558262.283'}\n",
            "api 호출 성공\n",
            "{'전기사용량': '258045023', '가스사용량': '74543710', '수도사용량': '13737344.7', '지역난방사용량': '24876689.382'}\n",
            "api 호출 성공\n",
            "{'전기사용량': '254879033', '가스사용량': '76363768', '수도사용량': '14052828.8', '지역난방사용량': '20848668.612'}\n",
            "api 호출 성공\n",
            "{'전기사용량': '244369714', '가스사용량': '64367515', '수도사용량': '13841531', '지역난방사용량': '14194450.151'}\n",
            "api 호출 성공\n",
            "{'전기사용량': '247831442', '가스사용량': '48373693', '수도사용량': '14618775.2', '지역난방사용량': '8499792.566'}\n",
            "api 호출 성공\n",
            "{'전기사용량': '237473019', '가스사용량': '33564967', '수도사용량': '14679505.8', '지역난방사용량': '3702573.787'}\n",
            "api 호출 성공\n",
            "{'전기사용량': '255905483', '가스사용량': '18132779', '수도사용량': '15240275.9', '지역난방사용량': '705948.444'}\n",
            "api 호출 성공\n",
            "{'전기사용량': '267363208', '가스사용량': '10708959', '수도사용량': '15033682.8', '지역난방사용량': '21617947.477'}\n",
            "api 호출 성공\n",
            "{'전기사용량': '320723239', '가스사용량': '10177428', '수도사용량': '15600097.8', '지역난방사용량': '286814.663'}\n",
            "api 호출 성공\n",
            "{'전기사용량': '309166830', '가스사용량': '8026967', '수도사용량': '15232496.1', '지역난방사용량': '301630.266'}\n",
            "api 호출 성공\n",
            "{'전기사용량': '239397195', '가스사용량': '16322881', '수도사용량': '15641048.9', '지역난방사용량': '4581073.913'}\n",
            "api 호출 성공\n",
            "{'전기사용량': '247308528', '가스사용량': '30095679', '수도사용량': '14835013.9', '지역난방사용량': '12882737.572'}\n",
            "api 호출 성공\n",
            "{'전기사용량': '265370372', '가스사용량': '51095720', '수도사용량': '15036546.3', '지역난방사용량': '26512966.052'}\n",
            "api 호출 성공\n",
            "{'전기사용량': '287882528', '가스사용량': '80955422', '수도사용량': '14273105.8', '지역난방사용량': '31069705.783'}\n",
            "api 호출 성공\n",
            "{'전기사용량': '271224712', '가스사용량': '85581769', '수도사용량': '13679936.9', '지역난방사용량': '22238103.26'}\n",
            "api 호출 성공\n",
            "{'전기사용량': '243868926', '가스사용량': '67363697', '수도사용량': '14263783.7', '지역난방사용량': '12528828.427'}\n",
            "api 호출 성공\n",
            "{'전기사용량': '248131327', '가스사용량': '43591034', '수도사용량': '14570687.2', '지역난방사용량': '5220678.501'}\n",
            "api 호출 성공\n",
            "{'전기사용량': '241741576', '가스사용량': '24638403', '수도사용량': '14312460.916', '지역난방사용량': '2246730.037'}\n",
            "api 호출 성공\n",
            "{'전기사용량': '254958704', '가스사용량': '18898880', '수도사용량': '15174790.6', '지역난방사용량': '396903.273'}\n",
            "api 호출 성공\n",
            "{'전기사용량': '334733756', '가스사용량': '9631171', '수도사용량': '16619105.064', '지역난방사용량': '5529269.058'}\n",
            "api 호출 성공\n",
            "{'전기사용량': '409719040', '가스사용량': '10205066', '수도사용량': '15737994.8', '지역난방사용량': '127607.838'}\n",
            "api 호출 성공\n",
            "{'전기사용량': '290606638', '가스사용량': '6602872', '수도사용량': '15497783.9', '지역난방사용량': '159066.058'}\n",
            "api 호출 성공\n",
            "{'전기사용량': '253845816', '가스사용량': '13840155', '수도사용량': '15930639.8', '지역난방사용량': '4220985.501'}\n",
            "api 호출 성공\n",
            "{'전기사용량': '255516339', '가스사용량': '28571168', '수도사용량': '14975050.4', '지역난방사용량': '13463697.643'}\n",
            "api 호출 성공\n",
            "{'전기사용량': '265314948', '가스사용량': '54651317', '수도사용량': '14873728.5', '지역난방사용량': '25989752.285'}\n",
            "api 호출 성공\n",
            "{'전기사용량': '286037593', '가스사용량': '80605997', '수도사용량': '14303008.9', '지역난방사용량': '30320240.229'}\n",
            "api 호출 성공\n",
            "{'전기사용량': '279071999', '가스사용량': '90004956', '수도사용량': '14437161.1', '지역난방사용량': '27615965.122'}\n",
            "api 호출 성공\n",
            "{'전기사용량': '256771728', '가스사용량': '75577723', '수도사용량': '14181287.1', '지역난방사용량': '15843818.715'}\n",
            "api 호출 성공\n",
            "{'전기사용량': '255028242', '가스사용량': '49843915.6', '수도사용량': '14443060.3', '지역난방사용량': '5725570.382'}\n",
            "api 호출 성공\n",
            "{'전기사용량': '238866649', '가스사용량': '28185559', '수도사용량': '14344240.1', '지역난방사용량': '1457446.39'}\n",
            "api 호출 성공\n",
            "{'전기사용량': '254486733', '가스사용량': '15468022', '수도사용량': '15087457.3', '지역난방사용량': '838539.99'}\n",
            "api 호출 성공\n",
            "{'전기사용량': '336383318', '가스사용량': '10701998', '수도사용량': '14907198', '지역난방사용량': '50033.827'}\n",
            "api 호출 성공\n",
            "{'전기사용량': '382965547', '가스사용량': '8718677', '수도사용량': '15555926.8', '지역난방사용량': '3278812.728'}\n",
            "api 호출 성공\n",
            "{'전기사용량': '294121752', '가스사용량': '9220604.8', '수도사용량': '15016541.4', '지역난방사용량': '7221052.414'}\n",
            "api 호출 성공\n",
            "{'전기사용량': '250724946', '가스사용량': '13803068', '수도사용량': '14983916.7', '지역난방사용량': '5216710.607'}\n",
            "api 호출 성공\n",
            "{'전기사용량': '252081207', '가스사용량': '28471902', '수도사용량': '14485236.6', '지역난방사용량': '10685943.786'}\n",
            "api 호출 성공\n",
            "{'전기사용량': '266989892', '가스사용량': '52230601', '수도사용량': '14538742.5', '지역난방사용량': '31655489.658'}\n",
            "api 호출 성공\n",
            "{'전기사용량': '286485085', '가스사용량': '82529062', '수도사용량': '14466145', '지역난방사용량': '29668211.872'}\n",
            "api 호출 성공\n",
            "{'전기사용량': '272702468', '가스사용량': '82851936', '수도사용량': '14516011.2', '지역난방사용량': '20320092.953'}\n",
            "api 호출 성공\n",
            "{'전기사용량': '243877178', '가스사용량': '62656340', '수도사용량': '13506311.3', '지역난방사용량': '10516665.902'}\n",
            "api 호출 성공\n",
            "{'전기사용량': '247142965', '가스사용량': '38484227', '수도사용량': '13951884.7', '지역난방사용량': '4292056.162'}\n",
            "api 호출 성공\n",
            "{'전기사용량': '241448830', '가스사용량': '25601698', '수도사용량': '13928576.1', '지역난방사용량': '1354710.378'}\n",
            "api 호출 성공\n",
            "{'전기사용량': '259143276', '가스사용량': '14742811', '수도사용량': '14822130.1', '지역난방사용량': '1169879.028'}\n",
            "api 호출 성공\n",
            "{'전기사용량': '328201532', '가스사용량': '9760384', '수도사용량': '14673620.5', '지역난방사용량': '2659009.06'}\n",
            "api 호출 성공\n",
            "{'전기사용량': '407479395', '가스사용량': '8486915', '수도사용량': '15402396.8', '지역난방사용량': '530124.99'}\n",
            "api 호출 성공\n",
            "{'전기사용량': '332452167', '가스사용량': '7674573', '수도사용량': '14941654.4', '지역난방사용량': '19457189.828'}\n",
            "api 호출 성공\n",
            "{'전기사용량': '255560826', '가스사용량': '11273798', '수도사용량': '14918622.9', '지역난방사용량': '3049594.261'}\n",
            "api 호출 성공\n",
            "{'전기사용량': '255362764', '가스사용량': '23749738', '수도사용량': '14439208.8', '지역난방사용량': '13225464.736'}\n",
            "api 호출 성공\n",
            "{'전기사용량': '271015225', '가스사용량': '47560201', '수도사용량': '14519931.6', '지역난방사용량': '24169250.596'}\n",
            "api 호출 성공\n",
            "{'전기사용량': '290223476', '가스사용량': '65608930', '수도사용량': '14119336.8', '지역난방사용량': '26759601.094'}\n",
            "api 호출 성공\n",
            "{'전기사용량': '280810330', '가스사용량': '65184440', '수도사용량': '14247296.7', '지역난방사용량': '18696968.203'}\n",
            "api 호출 성공\n",
            "{'전기사용량': '259332255', '가스사용량': '58563376', '수도사용량': '13792441.8', '지역난방사용량': '13455710.256'}\n",
            "api 호출 성공\n",
            "{'전기사용량': '256332884', '가스사용량': '35786315', '수도사용량': '14330249.1', '지역난방사용량': '3099650.225'}\n",
            "api 호출 성공\n",
            "{'전기사용량': '244740675', '가스사용량': '18077028', '수도사용량': '14158142.9', '지역난방사용량': '28333197.76'}\n",
            "api 호출 성공\n",
            "{'전기사용량': '270158916', '가스사용량': '11903071', '수도사용량': '14966075.6', '지역난방사용량': '20226852.923'}\n",
            "api 호출 성공\n",
            "{'전기사용량': '340000663', '가스사용량': '8319412', '수도사용량': '14992942.2', '지역난방사용량': '2173041.617'}\n",
            "api 호출 성공\n",
            "{'전기사용량': '463971328', '가스사용량': '7072251', '수도사용량': '15873544.6', '지역난방사용량': '130082.263'}\n",
            "api 호출 성공\n",
            "{'전기사용량': '409872908', '가스사용량': '5729131', '수도사용량': '15143321.6', '지역난방사용량': '3420507.136'}\n",
            "api 호출 성공\n",
            "{'전기사용량': '282268119', '가스사용량': '8233421', '수도사용량': '15297669.9', '지역난방사용량': '2695491.396'}\n",
            "api 호출 성공\n",
            "{'전기사용량': '257927956', '가스사용량': '17418221', '수도사용량': '14678672.5', '지역난방사용량': '8836296.454'}\n",
            "api 호출 성공\n",
            "{'전기사용량': '134828126', '가스사용량': '42103424', '수도사용량': '7326853.6', '지역난방사용량': '1513199.277'}\n"
          ]
        }
      ]
    },
    {
      "cell_type": "code",
      "source": [],
      "metadata": {
        "id": "4lMKYM6F3WsW"
      },
      "execution_count": null,
      "outputs": []
    }
  ]
}